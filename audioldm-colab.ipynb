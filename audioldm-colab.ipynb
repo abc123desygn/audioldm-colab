{
    "nbformat": 4,
    "nbformat_minor": 0,
    "metadata": {
      "colab": {
        "provenance": []
      },
      "kernelspec": {
        "name": "python3",
        "display_name": "Python 3"
      },
      "language_info": {
        "name": "python"
      },
      "accelerator": "GPU",
      "gpuClass": "standard"
    },
    "cells": [
      {
       "cell_type": "markdown",
       "metadata": {
        "id": "view-in-github"
       },
       "source": [
        "[![Open In Colab](https://colab.research.google.com/assets/colab-badge.svg)](https://colab.research.google.com/github/camenduru/audioldm-colab/blob/main/audioldm-colab.ipynb)"
       ]
      },
      {
        "cell_type": "code",
        "source": [
          "!git clone https://huggingface.co/camenduru/audioldm\n",
          "!mkdir /content/audioldm/ckpt\n",
          "!wget https://huggingface.co/ckpt/audioldm/resolve/main/ldm_trimmed.ckpt -O /content/audioldm/ckpt/ldm_trimmed.ckpt\n",
          "!pip install -r /content/audioldm/requirements.txt\n",
          "!pip install gradio\n",
          "!python /content/audioldm/app.py"
        ],
        "metadata": {
          "id": "ocSoqYj9aMBC"
        },
        "execution_count": null,
        "outputs": []
      }
    ]
  }